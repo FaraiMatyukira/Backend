{
 "cells": [
  {
   "cell_type": "code",
   "execution_count": 1,
   "metadata": {},
   "outputs": [],
   "source": [
    "import pandas as pd\n",
    "import numpy as np\n",
    "from sklearn.model_selection import train_test_split\n",
    "from sklearn.linear_model import LinearRegression\n",
    "from sklearn.metrics import mean_squared_error"
   ]
  },
  {
   "cell_type": "code",
   "execution_count": 2,
   "metadata": {},
   "outputs": [],
   "source": [
    "# Load your CSV data into a Pandas DataFrame\n",
    "data = pd.read_csv(\"Potch farm data.csv\",sep = \";\")\n"
   ]
  },
  {
   "cell_type": "code",
   "execution_count": 3,
   "metadata": {},
   "outputs": [],
   "source": [
    "# Split the data into features (X) and target (y)\n",
    "X = data[[ 'sur_refl_b01', 'sur_refl_b02', 'sur_refl_b03', 'sur_refl_b07', 'Month']]\n",
    "y = data['NDVI']"
   ]
  },
  {
   "cell_type": "code",
   "execution_count": 4,
   "metadata": {},
   "outputs": [],
   "source": [
    "# Split the data into training and testing sets\n",
    "X_train, X_test, y_train, y_test = train_test_split(X, y, test_size=0.2, random_state=42)\n"
   ]
  },
  {
   "cell_type": "code",
   "execution_count": 5,
   "metadata": {},
   "outputs": [
    {
     "data": {
      "text/plain": [
       "LinearRegression()"
      ]
     },
     "execution_count": 5,
     "metadata": {},
     "output_type": "execute_result"
    }
   ],
   "source": [
    "# Create a linear regression model\n",
    "linear_model = LinearRegression()\n",
    "# Train the linear regression model\n",
    "linear_model.fit(X_train, y_train)"
   ]
  },
  {
   "cell_type": "code",
   "execution_count": 6,
   "metadata": {},
   "outputs": [],
   "source": [
    "# Make predictions using the linear regression model\n",
    "linear_predictions = linear_model.predict(X_test)\n"
   ]
  },
  {
   "cell_type": "code",
   "execution_count": 7,
   "metadata": {},
   "outputs": [],
   "source": [
    "# Sigmoid activation function and its derivative\n",
    "def sigmoid(x):\n",
    "    return 1 / (1 + np.exp(-x))\n",
    "\n",
    "def sigmoid_derivative(x):\n",
    "    return x * (1 - x)\n",
    "\n",
    "\n",
    "# Define the neural network architecture\n",
    "class NeuralNetwork:\n",
    "    def __init__(self, input_size, hidden_size, output_size):\n",
    "        self.input_size = input_size\n",
    "        self.hidden_size = hidden_size\n",
    "        self.output_size = output_size\n",
    "        \n",
    "        # Initialize weights and biases\n",
    "        self.weights_input_hidden = np.random.uniform(size=(self.input_size, self.hidden_size))\n",
    "        self.bias_hidden = np.zeros((1, self.hidden_size))\n",
    "        \n",
    "        self.weights_hidden_output = np.random.uniform(size=(self.hidden_size, self.output_size))\n",
    "        self.bias_output = np.zeros((1, self.output_size))\n",
    "    \n",
    "    def forward(self, X):\n",
    "        self.hidden_input = np.dot(X, self.weights_input_hidden) + self.bias_hidden\n",
    "        self.hidden_output = sigmoid(self.hidden_input)\n",
    "        \n",
    "        self.final_input = np.dot(self.hidden_output, self.weights_hidden_output) + self.bias_output\n",
    "        self.predicted_output = sigmoid(self.final_input)\n",
    "    \n",
    "    def backward(self, X, y, learning_rate):\n",
    "        # Calculate output layer error\n",
    "        output_error = y - self.predicted_output\n",
    "        output_delta = output_error * sigmoid_derivative(self.predicted_output)\n",
    "        \n",
    "        # Calculate hidden layer error\n",
    "        hidden_error = output_delta.dot(self.weights_hidden_output.T)\n",
    "        hidden_delta = hidden_error * sigmoid_derivative(self.hidden_output)\n",
    "        \n",
    "        # Update weights and biases\n",
    "        self.weights_hidden_output += self.hidden_output.T.dot(output_delta) * learning_rate\n",
    "        self.bias_output += np.sum(output_delta, axis=0, keepdims=True) * learning_rate\n",
    "        \n",
    "        self.weights_input_hidden += X.T.dot(hidden_delta) * learning_rate\n",
    "        self.bias_hidden += np.sum(hidden_delta, axis=0, keepdims=True) * learning_rate\n",
    "    \n",
    "    def train(self, X, y, epochs, learning_rate):\n",
    "        for epoch in range(epochs):\n",
    "            self.forward(X)\n",
    "            self.backward(X, y, learning_rate)\n",
    "            if epoch % 1000 == 0:\n",
    "                loss = np.mean(np.square(y - self.predicted_output))\n",
    "                print(f\"Epoch {epoch}, Loss: {loss:.6f}\")"
   ]
  },
  {
   "cell_type": "code",
   "execution_count": 8,
   "metadata": {},
   "outputs": [],
   "source": [
    "# Example data for the neural network\n",
    "X_nn = np.array([[893.5000000000001, 893.5000000000001, 893.5000000000001, 893.5000000000001, 2]])\n",
    "y_nn = np.array([[0.6051723140495867]])  # Target NDVI value"
   ]
  },
  {
   "cell_type": "code",
   "execution_count": 9,
   "metadata": {},
   "outputs": [
    {
     "name": "stdout",
     "output_type": "stream",
     "text": [
      "Epoch 0, Loss: 0.141255\n",
      "Epoch 1000, Loss: 0.000000\n",
      "Epoch 2000, Loss: 0.000000\n",
      "Epoch 3000, Loss: 0.000000\n",
      "Epoch 4000, Loss: 0.000000\n",
      "Epoch 5000, Loss: 0.000000\n",
      "Epoch 6000, Loss: 0.000000\n",
      "Epoch 7000, Loss: 0.000000\n",
      "Epoch 8000, Loss: 0.000000\n",
      "Epoch 9000, Loss: 0.000000\n"
     ]
    }
   ],
   "source": [
    "# Define the neural network\n",
    "input_size = X_nn.shape[1]\n",
    "hidden_size = 8\n",
    "output_size = y_nn.shape[1]\n",
    "\n",
    "# Initialize and train the neural network\n",
    "nn = NeuralNetwork(input_size, hidden_size, output_size)\n",
    "nn.train(X_nn, y_nn, epochs=10000, learning_rate=0.1)\n"
   ]
  },
  {
   "cell_type": "code",
   "execution_count": 10,
   "metadata": {},
   "outputs": [
    {
     "name": "stdout",
     "output_type": "stream",
     "text": [
      "Combined Model Mean Squared Error: 0.020448140397364773\n"
     ]
    }
   ],
   "source": [
    "# Make predictions using the neural network\n",
    "nn.forward(X_test)\n",
    "nn_predictions = nn.predicted_output\n",
    "\n",
    "# Combine predictions from linear regression and neural network\n",
    "combined_predictions = (linear_predictions + nn_predictions.flatten()) / 2\n",
    "\n",
    "# Evaluate the combined model\n",
    "combined_mse = mean_squared_error(y_test, combined_predictions)\n",
    "print(f'Combined Model Mean Squared Error: {combined_mse}')"
   ]
  },
  {
   "cell_type": "code",
   "execution_count": 11,
   "metadata": {},
   "outputs": [
    {
     "name": "stdout",
     "output_type": "stream",
     "text": [
      "Linear Regression Prediction: 0.5530017387196982\n",
      "Neural Network Prediction: 0.6051723140495868\n",
      "Combined Prediction: 0.5790870263846425\n"
     ]
    },
    {
     "name": "stderr",
     "output_type": "stream",
     "text": [
      "c:\\Users\\farai\\anaconda3\\lib\\site-packages\\sklearn\\base.py:450: UserWarning: X does not have valid feature names, but LinearRegression was fitted with feature names\n",
      "  warnings.warn(\n"
     ]
    },
    {
     "data": {
      "text/plain": [
       "0.538534"
      ]
     },
     "execution_count": 11,
     "metadata": {},
     "output_type": "execute_result"
    }
   ],
   "source": [
    "import numpy as np\n",
    "\n",
    "# Define a test case for linear regression\n",
    "linear_test_case = np.array([[ 892.3299999999999\n",
    ", 2974.7899999999995\n",
    ", 400.05999999999995\n",
    ", 1194.78\n",
    ", 3]])\n",
    "\n",
    "# Define a test case for the neural network\t\t\t\n",
    "# 0.3025111570247934\t\t\t\n",
    "nn_test_case = np.array([[ 892.3299999999999\n",
    ", 2974.7899999999995\n",
    ", 400.05999999999995\n",
    ", 1194.78\n",
    ", 3]])\n",
    "\n",
    "# Make predictions using the linear regression model\n",
    "linear_prediction = linear_model.predict(linear_test_case)\n",
    "\n",
    "# Make predictions using the neural network\n",
    "nn.forward(nn_test_case)\n",
    "nn_prediction = nn.predicted_output[0][0]\n",
    "\n",
    "# Calculate the combined prediction\n",
    "combined_prediction = (linear_prediction[0] + nn_prediction) / 2\n",
    "\n",
    "print(f\"Linear Regression Prediction: {linear_prediction[0]}\")\n",
    "print(f\"Neural Network Prediction: {nn_prediction}\")\n",
    "print(f\"Combined Prediction: {combined_prediction}\")\n",
    "# 0.6051723140495867\n",
    "# 0.3025111570247934\n",
    "# 0.538534\n",
    "\n"
   ]
  }
 ],
 "metadata": {
  "kernelspec": {
   "display_name": "base",
   "language": "python",
   "name": "python3"
  },
  "language_info": {
   "codemirror_mode": {
    "name": "ipython",
    "version": 3
   },
   "file_extension": ".py",
   "mimetype": "text/x-python",
   "name": "python",
   "nbconvert_exporter": "python",
   "pygments_lexer": "ipython3",
   "version": "3.9.13"
  },
  "orig_nbformat": 4
 },
 "nbformat": 4,
 "nbformat_minor": 2
}
